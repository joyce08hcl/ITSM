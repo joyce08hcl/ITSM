{
 "cells": [
  {
   "cell_type": "code",
   "execution_count": null,
   "metadata": {},
   "outputs": [],
   "source": [
    "%pip install langchain_openai"
   ]
  },
  {
   "cell_type": "code",
   "execution_count": 1,
   "metadata": {},
   "outputs": [],
   "source": [
    "import os\n",
    "from langchain_openai import OpenAI,ChatOpenAI # type: ignore\n",
    "\n",
    "\n",
    "os.environ[\"OPENAI_API_BASE\"] ='http://10.35.151.101:8001/v1'\n",
    "os.environ[\"OPENAI_API_KEY\"] = \"sk-1234\"\n",
    "os.environ[\"OPENAI_MODEL_NAME\"] = 'ibm-llama3-1-70b'\n",
    "\n",
    "model = ChatOpenAI(\n",
    "    model=\"ibm-llama3-1-70b\",\n",
    "    temperature=0.3,\n",
    "    max_tokens=3000,\n",
    ")"
   ]
  },
  {
   "cell_type": "code",
   "execution_count": 3,
   "metadata": {},
   "outputs": [
    {
     "name": "stdout",
     "output_type": "stream",
     "text": [
      "Requirement already satisfied: mysql-connector-python in /home/hpcuser/joycehcl/.venv/lib/python3.10/site-packages (9.0.0)\n",
      "Note: you may need to restart the kernel to use updated packages.\n",
      "Requirement already satisfied: python-dotenv in /home/hpcuser/joycehcl/.venv/lib/python3.10/site-packages (1.0.1)\n",
      "Note: you may need to restart the kernel to use updated packages.\n",
      "Requirement already satisfied: pandas in /home/hpcuser/joycehcl/.venv/lib/python3.10/site-packages (2.2.2)\n",
      "Requirement already satisfied: numpy>=1.22.4 in /home/hpcuser/joycehcl/.venv/lib/python3.10/site-packages (from pandas) (2.1.0)\n",
      "Requirement already satisfied: python-dateutil>=2.8.2 in /home/hpcuser/joycehcl/.venv/lib/python3.10/site-packages (from pandas) (2.9.0.post0)\n",
      "Requirement already satisfied: pytz>=2020.1 in /home/hpcuser/joycehcl/.venv/lib/python3.10/site-packages (from pandas) (2024.1)\n",
      "Requirement already satisfied: tzdata>=2022.7 in /home/hpcuser/joycehcl/.venv/lib/python3.10/site-packages (from pandas) (2024.1)\n",
      "Requirement already satisfied: six>=1.5 in /home/hpcuser/joycehcl/.venv/lib/python3.10/site-packages (from python-dateutil>=2.8.2->pandas) (1.16.0)\n",
      "Note: you may need to restart the kernel to use updated packages.\n"
     ]
    }
   ],
   "source": [
    "%pip install mysql-connector-python\n",
    "%pip install python-dotenv\n",
    "%pip install pandas"
   ]
  },
  {
   "cell_type": "code",
   "execution_count": 2,
   "metadata": {},
   "outputs": [
    {
     "data": {
      "text/plain": [
       "True"
      ]
     },
     "execution_count": 2,
     "metadata": {},
     "output_type": "execute_result"
    }
   ],
   "source": [
    "import mysql.connector\n",
    "from dotenv import load_dotenv\n",
    "import pandas as pd\n",
    "\n",
    "load_dotenv()"
   ]
  },
  {
   "cell_type": "code",
   "execution_count": 3,
   "metadata": {},
   "outputs": [],
   "source": [
    "connection = mysql.connector.connect(\n",
    "    host=\"db4free.net\",\n",
    "    user=\"jerrin23\",\n",
    "    password=\"9890614803\",\n",
    "    port=\"3306\",\n",
    "    database=\"college_database\",\n",
    "    ssl_disabled=True \n",
    ")"
   ]
  },
  {
   "cell_type": "code",
   "execution_count": 4,
   "metadata": {},
   "outputs": [
    {
     "name": "stdout",
     "output_type": "stream",
     "text": [
      "Connection Successful!!\n"
     ]
    },
    {
     "name": "stdout",
     "output_type": "stream",
     "text": [
      "(1, 'Jasmine', 'Chennai')\n",
      "(2, 'Rhea', 'Mumbai')\n",
      "(3, 'Rohit', 'Chennai')\n",
      "(4, 'Deepak', 'Delhi')\n",
      "Connection closed!!\n"
     ]
    }
   ],
   "source": [
    "if connection.is_connected():\n",
    "    print(\"Connection Successful!!\")\n",
    "    cursor = connection.cursor()\n",
    "    try:\n",
    "        cursor.execute(\"Select * from students\")\n",
    "        rows = cursor.fetchall()\n",
    "\n",
    "        for row in rows:\n",
    "            print(row)\n",
    "    except mysql.connector.Error as e:\n",
    "        print(\"Error reading data from MySQL table : \", e)\n",
    "    finally:\n",
    "        cursor.close()\n",
    "        connection.close()\n",
    "        print(\"Connection closed!!\")\n",
    "else:\n",
    "    print(\"Connection failed!!\")"
   ]
  },
  {
   "cell_type": "code",
   "execution_count": 5,
   "metadata": {},
   "outputs": [],
   "source": [
    "def connect_to_database():\n",
    "    return mysql.connector.connect(\n",
    "        host=\"db4free.net\",\n",
    "        user=username,\n",
    "        password=password,\n",
    "        database=database_name,\n",
    "        port='3306',\n",
    "        ssl_disabled=True\n",
    "    )"
   ]
  },
  {
   "cell_type": "code",
   "execution_count": 6,
   "metadata": {},
   "outputs": [],
   "source": [
    "def execute_query(connection, query, database, fetch_data=True):\n",
    "    try:\n",
    "        if connection.is_connected():\n",
    "            cursor = connection.cursor()\n",
    "            print(query)\n",
    "            cursor.execute(f\"USE {database};\")\n",
    "            cursor.execute(query)\n",
    "            rows = cursor.fetchall()\n",
    "            if rows is not None:\n",
    "                connection.commit()\n",
    "            return rows\n",
    "    except mysql.connector.Error as e:\n",
    "        print(\"Error executing SQL Query : {e}\")\n",
    "        connection.rollback()"
   ]
  },
  {
   "cell_type": "code",
   "execution_count": 9,
   "metadata": {},
   "outputs": [],
   "source": [
    "def get_table_data(connection, table_name):\n",
    "    try:\n",
    "        cursor = connection.cursor()\n",
    "        cursor.execute(f\"SELECT * FROM {table_name}\")\n",
    "        table_data = cursor.fetchall()\n",
    "        column_names = [i[0] for i in cursor.description]\n",
    "        return table_data, column_names\n",
    "    except mysql.connector.Error as e:\n",
    "        print(f\"Error: {e}\")\n",
    "        return [], []"
   ]
  },
  {
   "cell_type": "code",
   "execution_count": 10,
   "metadata": {},
   "outputs": [],
   "source": [
    "def get_tables_in_database(connection):\n",
    "    try:\n",
    "        cursor = connection.cursor()\n",
    "        cursor.execute(\"SHOW TABLES\")\n",
    "        tables = cursor.fetchall()\n",
    "        table_names = [table[0] for table in tables]\n",
    "        return table_names\n",
    "    except mysql.connector.Error as e:\n",
    "        print(f\"Error: {e}\")\n",
    "        return []"
   ]
  },
  {
   "cell_type": "code",
   "execution_count": 13,
   "metadata": {},
   "outputs": [
    {
     "name": "stdout",
     "output_type": "stream",
     "text": [
      "Table: students\n",
      "   id     name  address\n",
      "0   1  Jasmine  Chennai\n",
      "1   2     Rhea   Mumbai\n",
      "2   3    Rohit  Chennai\n",
      "INSERT INTO college_database.students (id, name, address) VALUES (4, 'Deepak', 'Delhi');\n",
      "INSERT INTO college_database.students (id, name, address) VALUES (4, 'Deepak', 'Delhi');\n",
      "[]\n",
      "Data updated succesfully!!\n"
     ]
    }
   ],
   "source": [
    "database_name = input(\"Enter the name of the database\")\n",
    "table_name = input(\"Enter the name of the table\")\n",
    "username = input(\"Enter your username\")\n",
    "password = input(\"Enter your password\")\n",
    "column_names = []\n",
    "\n",
    "\n",
    "try:\n",
    "    connection = connect_to_database()\n",
    "    if connection.is_connected():\n",
    "        tables = get_tables_in_database(connection)\n",
    "        for table in tables:\n",
    "            print(f\"Table: {table}\")\n",
    "            table_data, column_names = get_table_data(connection, table)\n",
    "            df = pd.DataFrame(table_data, columns=column_names)\n",
    "            print(df)\n",
    "        cursor = connection.cursor()\n",
    "except mysql.connector.Error as e:\n",
    "    print(\"Error reading data from MySQL table:\", e)\n",
    "\n",
    "if database_name and username and password:\n",
    "    text_input = input(\"Enter your Query : \")\n",
    "    if text_input:\n",
    "        template = f\"\"\"\n",
    "            Create a SQL query snippet using the below text for the table with database name and table name as {database_name}.{table_name} and columns {column_names}:\n",
    "            ```\n",
    "                {text_input}\n",
    "            ```\n",
    "                Just write the correct SQL Query ending with ';'\n",
    "            \"\"\"\n",
    "        formatted_template = template.format(text_input=text_input)\n",
    "        response = model(template)\n",
    "        sql_query = response.content\n",
    "        print(sql_query)\n",
    "        rows = execute_query(connection,sql_query,database_name)\n",
    "        print(rows)\n",
    "        if rows:\n",
    "            pd.DataFrame(rows)\n",
    "        else:\n",
    "            print(\"Data updated succesfully!!\")\n",
    "            if connection.is_connected():\n",
    "                cursor.execute(f'''SELECT * FROM {table_name}''')\n",
    "                rows = cursor.fetchall()\n",
    "                pd.DataFrame(rows)"
   ]
  },
  {
   "cell_type": "code",
   "execution_count": null,
   "metadata": {},
   "outputs": [],
   "source": []
  }
 ],
 "metadata": {
  "kernelspec": {
   "display_name": ".venv",
   "language": "python",
   "name": "python3"
  },
  "language_info": {
   "codemirror_mode": {
    "name": "ipython",
    "version": 3
   },
   "file_extension": ".py",
   "mimetype": "text/x-python",
   "name": "python",
   "nbconvert_exporter": "python",
   "pygments_lexer": "ipython3",
   "version": "3.10.12"
  }
 },
 "nbformat": 4,
 "nbformat_minor": 2
}
